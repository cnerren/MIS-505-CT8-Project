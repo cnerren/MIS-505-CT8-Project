{
 "cells": [
  {
   "cell_type": "code",
   "execution_count": 5,
   "id": "2ca35c85-ec9b-45b4-9bbb-5b78e38b05f0",
   "metadata": {},
   "outputs": [],
   "source": [
    "#Cheryl Nerren\n",
    "#MIS 505 CT8\n",
    "\n",
    "# Import libraries\n",
    "import pandas as pd\n",
    "import zipfile\n",
    "import os\n",
    "\n",
    "# Step 1: Define paths for the dataset files\n",
    "# These paths refer to the locations of the zip files containing the data.\n",
    "enrollment_zip_path = 'API_SE.PRM.ENRL_DS2_en_csv_v2_4538564-1.zip'\n",
    "gdp_zip_path = 'WDI_csv.zip'"
   ]
  },
  {
   "cell_type": "code",
   "execution_count": 7,
   "id": "1ada1ac3-c50f-4f69-9a1c-f2fa3fee6f55",
   "metadata": {},
   "outputs": [],
   "source": [
    "\n",
    "# Step 2: Define paths for the dataset files\n",
    "# Specify the paths for the zip files containing the primary enrollment and GDP data.\n",
    "enrollment_zip_path = 'API_SE.PRM.ENRL_DS2_en_csv_v2_4538564-1.zip'\n",
    "gdp_zip_path = 'WDI_csv.zip'\n"
   ]
  },
  {
   "cell_type": "code",
   "execution_count": 10,
   "id": "9b607111-bd74-416f-a93b-7e89137f4661",
   "metadata": {},
   "outputs": [],
   "source": [
    "# Step 3: Extract the enrollment dataset\n",
    "# Extract all contents of the zip file containing the enrollment data into a specific folder.\n",
    "with zipfile.ZipFile(enrollment_zip_path, 'r') as z:\n",
    "    z.extractall('enrollment_data')\n",
    "enrollment_files = os.listdir('enrollment_data')  # List the extracted files to confirm extraction.\n"
   ]
  },
  {
   "cell_type": "code",
   "execution_count": 12,
   "id": "fc9e3fb0-eb57-4145-bc79-3366c9702141",
   "metadata": {},
   "outputs": [],
   "source": [
    "# Step 4: Extract the GDP dataset\n",
    "# Extract all contents of the zip file containing the GDP data into a specific folder.\n",
    "with zipfile.ZipFile(gdp_zip_path, 'r') as z:\n",
    "    z.extractall('gdp_data')\n",
    "gdp_files = os.listdir('gdp_data')  # List the extracted files to confirm extraction.\n"
   ]
  },
  {
   "cell_type": "code",
   "execution_count": 15,
   "id": "e9d26167-0f53-4fb7-9a73-9f0cef7f0b12",
   "metadata": {},
   "outputs": [],
   "source": [
    "# Step 5: Load the primary enrollment dataset\n",
    "# Read the enrollment data CSV, skipping the first 4 rows that contain metadata.\n",
    "enrollment_data_path = 'enrollment_data/API_SE.PRM.ENRL_DS2_en_csv_v2_4538564.csv'\n",
    "enrollment_data = pd.read_csv(enrollment_data_path, skiprows=4)"
   ]
  },
  {
   "cell_type": "code",
   "execution_count": 17,
   "id": "2a6a01c9-66a2-4212-acb4-bc0461306372",
   "metadata": {},
   "outputs": [],
   "source": [
    "# Step 6: Load the GDP dataset\n",
    "# Read the GDP data CSV, which contains various economic indicators.\n",
    "gdp_data_path = 'gdp_data/WDIData.csv'\n",
    "gdp_data = pd.read_csv(gdp_data_path)"
   ]
  },
  {
   "cell_type": "code",
   "execution_count": 19,
   "id": "e063cc26-e959-4eb7-99bb-fb880b172004",
   "metadata": {},
   "outputs": [],
   "source": [
    "# Step 7: Filter enrollment data for South Africa\n",
    "# Select only South Africa's data and reshape it for the years 2001-2020.\n",
    "enrollment_south_africa = enrollment_data[enrollment_data['Country Name'] == 'South Africa']\n",
    "enrollment_south_africa = enrollment_south_africa.loc[:, ['Country Name'] + [str(year) for year in range(2001, 2021)]]\n",
    "enrollment_south_africa = enrollment_south_africa.melt(\n",
    "    id_vars=['Country Name'],  # Keep the 'Country Name' column.\n",
    "    var_name='Year',           # Create a 'Year' column from the wide format.\n",
    "    value_name='Primary Enrollment'  # Rename the values column to 'Primary Enrollment'.\n",
    ")\n",
    "enrollment_south_africa['Year'] = enrollment_south_africa['Year'].astype(int)  # Convert Year to integer for consistency.\n",
    "\n"
   ]
  },
  {
   "cell_type": "code",
   "execution_count": 21,
   "id": "517edcc7-2658-45e7-8523-ecf32ed96e9d",
   "metadata": {},
   "outputs": [],
   "source": [
    "# Step 8: Filter GDP data for South Africa\n",
    "# Select only South Africa's data and GDP per capita (constant 2015 US$) indicator for the years 2001-2020.\n",
    "gdp_south_africa = gdp_data[(gdp_data['Country Name'] == 'South Africa') & \n",
    "                            (gdp_data['Indicator Name'] == 'GDP per capita (constant 2015 US$)')]\n",
    "gdp_south_africa = gdp_south_africa.loc[:, ['Country Name'] + [str(year) for year in range(2001, 2021)]]\n",
    "gdp_south_africa = gdp_south_africa.melt(\n",
    "    id_vars=['Country Name'],  # Keep the 'Country Name' column.\n",
    "    var_name='Year',           # Create a 'Year' column from the wide format.\n",
    "    value_name='GDP'           # Rename the values column to 'GDP'.\n",
    ")\n",
    "gdp_south_africa['Year'] = gdp_south_africa['Year'].astype(int)  # Convert Year to integer for consistency.\n"
   ]
  },
  {
   "cell_type": "code",
   "execution_count": 23,
   "id": "352a48e4-ca49-438c-b484-69712370b4fb",
   "metadata": {},
   "outputs": [],
   "source": [
    "# Step 9: Merge enrollment and GDP data\n",
    "# Combine the enrollment and GDP data on 'Country Name' and 'Year' columns into a single dataset.\n",
    "merged_data = pd.merge(enrollment_south_africa, gdp_south_africa, on=['Country Name', 'Year'])\n"
   ]
  },
  {
   "cell_type": "code",
   "execution_count": 25,
   "id": "1556cf1f-b8f6-40e0-a5e6-571c73c8820c",
   "metadata": {},
   "outputs": [
    {
     "name": "stdout",
     "output_type": "stream",
     "text": [
      "Cleaned and Merged Dataset:\n",
      "    Country Name  Year  Primary Enrollment          GDP\n",
      "0   South Africa  2001           7413415.0  4996.078526\n",
      "1   South Africa  2002           7465728.0  5115.881002\n",
      "2   South Africa  2003           7470476.0  5202.687689\n",
      "3   South Africa  2004           7444142.0  5373.806951\n",
      "4   South Africa  2005           7314449.0  5587.793352\n",
      "5   South Africa  2006           7256518.0  5826.826199\n",
      "6   South Africa  2007           7312258.0  6060.394209\n",
      "7   South Africa  2008           7231660.0  6170.905329\n",
      "8   South Africa  2009           7128500.0  5992.027283\n",
      "9   South Africa  2010           7024368.0  6084.967978\n",
      "10  South Africa  2011           6957432.0  6182.793901\n",
      "11  South Africa  2012           7004482.0  6231.620759\n",
      "12  South Africa  2013           7063849.0  6284.860250\n",
      "13  South Africa  2014           7195183.0  6273.566318\n",
      "14  South Africa  2015           7555842.0  6259.839681\n",
      "15  South Africa  2016           7569924.0  6209.365888\n",
      "16  South Africa  2017           7582154.0  6192.892400\n",
      "17  South Africa  2018           7568387.0  6199.891699\n",
      "18  South Africa  2019           7688381.0  6125.735325\n",
      "19  South Africa  2020                 NaN  5659.206949\n"
     ]
    }
   ],
   "source": [
    "# Step 10: Display the merged dataset\n",
    "# Print the final cleaned and merged dataset for verification and further analysis.\n",
    "print(\"Cleaned and Merged Dataset:\")\n",
    "print(merged_data)"
   ]
  },
  {
   "cell_type": "code",
   "execution_count": null,
   "id": "ff7e5cec-6752-4135-9048-a99b265f5378",
   "metadata": {},
   "outputs": [],
   "source": []
  }
 ],
 "metadata": {
  "kernelspec": {
   "display_name": "anaconda-ai-2024.04-py310",
   "language": "python",
   "name": "conda-env-anaconda-ai-2024.04-py310-py"
  },
  "language_info": {
   "codemirror_mode": {
    "name": "ipython",
    "version": 3
   },
   "file_extension": ".py",
   "mimetype": "text/x-python",
   "name": "python",
   "nbconvert_exporter": "python",
   "pygments_lexer": "ipython3",
   "version": "3.10.13"
  }
 },
 "nbformat": 4,
 "nbformat_minor": 5
}
